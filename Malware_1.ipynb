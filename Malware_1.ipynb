{
 "cells": [
  {
   "cell_type": "markdown",
   "id": "6cb398cc-5f08-4f8a-a718-0a9e15aeed8a",
   "metadata": {
    "jp-MarkdownHeadingCollapsed": true
   },
   "source": [
    "# Import libraries"
   ]
  },
  {
   "cell_type": "code",
   "execution_count": null,
   "id": "d143f57c-e355-430a-937a-24bf9abed346",
   "metadata": {},
   "outputs": [],
   "source": [
    "import pandas as pd\n",
    "import numpy as np\n",
    "\n",
    "import plotly.express as px\n",
    "\n",
    "from pyspark.sql import SparkSession\n",
    "from pyspark.sql.functions import monotonically_increasing_id, col, count, when, lit\n",
    "from pyspark.sql import functions as F\n",
    "\n",
    "import plotly.express as px\n",
    "import plotly.graph_objects as go\n",
    "\n",
    "import requests\n",
    "import ast\n"
   ]
  },
  {
   "cell_type": "code",
   "execution_count": null,
   "id": "1533d70f-3e05-4076-8c8b-658a4a35a1a7",
   "metadata": {},
   "outputs": [],
   "source": [
    "spark = SparkSession.builder.appName('Malware').getOrCreate()"
   ]
  },
  {
   "cell_type": "markdown",
   "id": "3e2ef9a5-4234-47b9-97ad-e3d352807670",
   "metadata": {
    "jp-MarkdownHeadingCollapsed": true
   },
   "source": [
    "# **Loading datasets**"
   ]
  },
  {
   "cell_type": "markdown",
   "id": "21deeeb4-13a8-4272-b907-d8c0d945a168",
   "metadata": {},
   "source": [
    "## Malware DNS dataset"
   ]
  },
  {
   "cell_type": "code",
   "execution_count": null,
   "id": "8f264b8a-74fa-464a-8d01-f9b32a756691",
   "metadata": {},
   "outputs": [],
   "source": [
    "df_1 = spark.read.json('2018.log')\n",
    "df_2 = spark.read.json('2019.log')\n",
    "df_3 = spark.read.json('2020.log')\n",
    "df_4 = spark.read.json('2021.log')\n",
    "df_5 = spark.read.json('2022.log')\n",
    "df_6 = spark.read.json('2023.log')\n",
    "df_7 = spark.read.json('2024.log')"
   ]
  },
  {
   "cell_type": "code",
   "execution_count": null,
   "id": "d8d7b1e8-2ce9-4520-8984-3c9cb1bb241b",
   "metadata": {},
   "outputs": [],
   "source": [
    "df_1 = df_1['icann_tld', 'icann_domain', 'query', 'length', 'qtype_name', 'rcode_name', 'Z', 'rtt', 'answers', 'TTLs', 'entropy']\n",
    "df_2 = df_2['icann_tld', 'icann_domain', 'query', 'length', 'qtype_name', 'rcode_name', 'Z', 'rtt', 'answers', 'TTLs', 'entropy']\n",
    "df_3 = df_3['icann_tld', 'icann_domain', 'query', 'length', 'qtype_name', 'rcode_name', 'Z', 'rtt', 'answers', 'TTLs', 'entropy']\n",
    "df_4 = df_4['icann_tld', 'icann_domain', 'query', 'length', 'qtype_name', 'rcode_name', 'Z', 'rtt', 'answers', 'TTLs', 'entropy']\n",
    "df_5 = df_5['icann_tld', 'icann_domain', 'query', 'length', 'qtype_name', 'rcode_name', 'Z', 'rtt', 'answers', 'TTLs', 'entropy']\n",
    "df_6 = df_6['icann_tld', 'icann_domain', 'query', 'length', 'qtype_name', 'rcode_name', 'Z', 'rtt', 'answers', 'TTLs', 'entropy']\n",
    "df_7 = df_7['icann_tld', 'icann_domain', 'query', 'length', 'qtype_name', 'rcode_name', 'Z', 'rtt', 'answers', 'TTLs', 'entropy']\n",
    "df_1.show()"
   ]
  },
  {
   "cell_type": "code",
   "execution_count": null,
   "id": "3172a72a-a7dd-4862-86f8-e972d5e61dd5",
   "metadata": {},
   "outputs": [],
   "source": [
    "df_1 = df_1.withColumn(\"year\", lit(2018))\n",
    "df_2 = df_2.withColumn(\"year\", lit(2019))\n",
    "df_3 = df_3.withColumn(\"year\", lit(2020))\n",
    "df_4 = df_4.withColumn(\"year\", lit(2021))\n",
    "df_5 = df_5.withColumn(\"year\", lit(2022))\n",
    "df_6 = df_6.withColumn(\"year\", lit(2023))\n",
    "df_7 = df_7.withColumn(\"year\", lit(2024))\n",
    "\n",
    "df_1.show()"
   ]
  },
  {
   "cell_type": "code",
   "execution_count": null,
   "id": "23fd5513-65b5-4aa2-a60c-e67d2dde9d12",
   "metadata": {},
   "outputs": [],
   "source": [
    "df_m = df_1.union(df_2).union(df_3).union(df_4).union(df_5).union(df_6).union(df_7)\n",
    "df_m.show()"
   ]
  },
  {
   "cell_type": "code",
   "execution_count": null,
   "id": "44d559f4-1adc-4d46-8f84-f09f3d159137",
   "metadata": {},
   "outputs": [],
   "source": [
    "# add id column\n",
    "df_m = df_m.withColumn(\"id\", monotonically_increasing_id())\n",
    "df_m = df_m.withColumn(\"id\", df_m[\"id\"] + 1)\n",
    "\n",
    "# add malware columns\n",
    "df_m = df_m.withColumn(\"malware\", lit(1))\n",
    "\n",
    "df_m.show()"
   ]
  },
  {
   "cell_type": "code",
   "execution_count": null,
   "id": "66e6541d-28cc-4230-a608-7797db5a66c0",
   "metadata": {},
   "outputs": [],
   "source": [
    "df_m = df_m['year', 'id', 'icann_tld', 'icann_domain', 'query', 'length', 'qtype_name', 'rcode_name', 'Z', 'rtt', 'answers', 'TTLs', 'entropy', 'malware']\n",
    "df_m.show()"
   ]
  },
  {
   "cell_type": "code",
   "execution_count": null,
   "id": "d36612a0-a54a-4e51-a95b-0843de4e2677",
   "metadata": {},
   "outputs": [],
   "source": [
    "print(f\" 2018 count is: {df_1.count()} \\n 2019 count is: {df_2.count()} \\n 2020 count is: {df_3.count()} \\n 2021 count is: {df_4.count()} \\n 2022 count is: {df_5.count()} \\n 2023 count is: {df_6.count()} \\n 2024 count is: {df_7.count()}\")"
   ]
  },
  {
   "cell_type": "code",
   "execution_count": null,
   "id": "587d76d9-8374-4f19-b57e-6c3e02a4fc1d",
   "metadata": {},
   "outputs": [],
   "source": [
    "print(f\"malware df count is {df_m.count()}\")"
   ]
  },
  {
   "cell_type": "markdown",
   "id": "329d8d3b-dc12-48cc-b193-d05d2c1c3984",
   "metadata": {},
   "source": [
    "## Normal DNS dataset"
   ]
  },
  {
   "cell_type": "code",
   "execution_count": null,
   "id": "5845cb93-511b-4585-8e29-6c7bb9ce9eb6",
   "metadata": {},
   "outputs": [],
   "source": [
    "df_n = spark.read.json('top-1m-dns.log')\n",
    "\n",
    "df_n = df_n[df_n[\"`id.resp_h`\"] == \"8.8.8.8\"]\n",
    "df_n = df_n['icann_tld', 'icann_domain', 'query', 'length', 'qtype_name', 'rcode_name', 'Z', 'rtt', 'answers', 'TTLs', 'entropy']\n",
    "\n",
    "df_n.show()"
   ]
  },
  {
   "cell_type": "code",
   "execution_count": null,
   "id": "03e91cd8-e3ed-4cdb-9508-cbda8315291a",
   "metadata": {},
   "outputs": [],
   "source": [
    "df_n = df_n.withColumn(\"year\", lit(0))\n",
    "df_n = df_n.withColumn(\"id\", lit(0))\n",
    "df_n = df_n.withColumn(\"malware\", lit(0))\n",
    "\n",
    "df_n = df_n['year', 'id', 'icann_tld', 'icann_domain', 'query', 'length', 'qtype_name', 'rcode_name', 'Z', 'rtt', 'answers', 'TTLs', 'entropy', 'malware']\n",
    "\n",
    "df_n.show()"
   ]
  },
  {
   "cell_type": "markdown",
   "id": "1fc85054-4129-4b34-bbb8-7db6b40a52fb",
   "metadata": {
    "jp-MarkdownHeadingCollapsed": true
   },
   "source": [
    "# **data cleaning**"
   ]
  },
  {
   "cell_type": "code",
   "execution_count": null,
   "id": "71e67e82-fa2f-41f6-a9e6-cbf466a12fb5",
   "metadata": {},
   "outputs": [],
   "source": [
    "df_n.printSchema()"
   ]
  },
  {
   "cell_type": "code",
   "execution_count": null,
   "id": "9c489902-2adf-4ee6-ad67-0cbacb5b2517",
   "metadata": {},
   "outputs": [],
   "source": [
    "df_m.printSchema()"
   ]
  },
  {
   "cell_type": "code",
   "execution_count": 19,
   "id": "6740bdd0-f640-4060-9c23-37b09f573b44",
   "metadata": {},
   "outputs": [],
   "source": [
    "df_m = df_m.join(df_n, df_m['icann_domain'] == df_n['icann_domain'], how='left_anti')\n",
    "df_m = df_m.join(df_n, df_m['query'] == df_n['query'], how='left_anti')"
   ]
  },
  {
   "cell_type": "code",
   "execution_count": null,
   "id": "2389bdba-cdad-4783-bf07-ddae3420dbc9",
   "metadata": {},
   "outputs": [],
   "source": [
    "df_final = df_n.union(df_m)\n",
    "df_final.count()"
   ]
  },
  {
   "cell_type": "code",
   "execution_count": 21,
   "id": "d0262ae2-8c11-4a55-93f7-7e9481b42334",
   "metadata": {},
   "outputs": [],
   "source": [
    "df_final = df_n.union(df_m)"
   ]
  },
  {
   "cell_type": "code",
   "execution_count": null,
   "id": "2da7ca33-8c40-4eba-a1ae-8a0385480e13",
   "metadata": {},
   "outputs": [],
   "source": [
    "df_final.count()"
   ]
  },
  {
   "cell_type": "code",
   "execution_count": 19,
   "id": "90ab8fa4-e6df-4bd6-914d-15ca5eef7b8b",
   "metadata": {},
   "outputs": [],
   "source": [
    "# df_final = df_final.toPandas()\n",
    "# df_final"
   ]
  },
  {
   "cell_type": "code",
   "execution_count": null,
   "id": "422ddf98-4138-4343-b2d2-93fcd0c2d46c",
   "metadata": {},
   "outputs": [],
   "source": [
    "df_final.select(count(when(col(\"icann_domain\").isNull(), 1)).alias(\"null_count_in_name\")).show()"
   ]
  },
  {
   "cell_type": "code",
   "execution_count": null,
   "id": "422196f0-8dd6-4b80-8232-6f21fa7e989d",
   "metadata": {},
   "outputs": [],
   "source": [
    "df_final.select(count(when(col(\"query\").isNull(), 1)).alias(\"null_count_in_name\")).show()"
   ]
  },
  {
   "cell_type": "code",
   "execution_count": null,
   "id": "e6dd584b-4201-4505-a12d-12ff36a6c164",
   "metadata": {},
   "outputs": [],
   "source": [
    "df_final = df_final.dropna(subset=\"icann_domain\")\n",
    "df_final.count()"
   ]
  },
  {
   "cell_type": "code",
   "execution_count": null,
   "id": "3bb8923b-99bb-4f5b-9143-8ab01593b35b",
   "metadata": {},
   "outputs": [],
   "source": [
    "df_m = df_final.filter(df_final['malware'] == 1)\n",
    "df_n = df_final.filter(df_final['malware'] != 1)\n",
    "\n",
    "print(f\" malware count: {df_m.count()} \\n normal count: {df_n.count()}\")"
   ]
  },
  {
   "cell_type": "code",
   "execution_count": null,
   "id": "fb061a89-4ab7-44af-ac00-1eb80b80a9e0",
   "metadata": {},
   "outputs": [],
   "source": [
    "for col in df_n['qtype_name', 'rcode_name', 'Z']:\n",
    "    print(df_n.groupBy(col).count().show())"
   ]
  },
  {
   "cell_type": "code",
   "execution_count": null,
   "id": "06ff8bfe-fb20-4cfe-ae19-f4b53d52c395",
   "metadata": {},
   "outputs": [],
   "source": [
    "for col in df_m['qtype_name', 'rcode_name', 'Z']:\n",
    "    print(df_m.groupBy(col).count().show())"
   ]
  },
  {
   "cell_type": "code",
   "execution_count": 26,
   "id": "de851685-e758-4dbc-9ecf-1a5698321065",
   "metadata": {},
   "outputs": [],
   "source": [
    "# # Step 1: Compute value counts for 'rcode_name' grouped by 'malware'\n",
    "# value_counts_df = (\n",
    "#     df_final.groupBy(\"rcode_name\", \"malware\")\n",
    "#     .agg(count(\"*\").alias(\"count\"))\n",
    "#     .orderBy(\"rcode_name\", \"malware\")\n",
    "# )\n",
    "\n",
    "# # Step 2: Convert PySpark DataFrame to Pandas for plotting\n",
    "# value_counts_pd = value_counts_df.toPandas()\n",
    "\n",
    "# # Step 3: Pivot the data for grouped bar chart format\n",
    "# pivot_data = value_counts_pd.pivot(index=\"rcode_name\", columns=\"malware\", values=\"count\").fillna(0)\n",
    "\n",
    "# # Ensure proper column names\n",
    "# pivot_data.columns = [\"Malware_0\", \"Malware_1\"]\n",
    "\n",
    "# # Reset index for plotting\n",
    "# pivot_data.reset_index(inplace=True)\n",
    "\n",
    "# # Step 4: Create grouped bar chart using Plotly\n",
    "# fig = go.Figure()\n",
    "\n",
    "# # Add bars for 'malware = 0' (blue)\n",
    "# fig.add_trace(go.Bar(\n",
    "#     x=pivot_data[\"rcode_name\"],\n",
    "#     y=pivot_data[\"Malware_0\"],\n",
    "#     name=\"Malware = 0\",\n",
    "#     marker_color=\"blue\"\n",
    "# ))\n",
    "\n",
    "# # Add bars for 'malware = 1' (red)\n",
    "# fig.add_trace(go.Bar(\n",
    "#     x=pivot_data[\"rcode_name\"],\n",
    "#     y=pivot_data[\"Malware_1\"],\n",
    "#     name=\"Malware = 1\",\n",
    "#     marker_color=\"red\"\n",
    "# ))\n",
    "\n",
    "# # Customize layout\n",
    "# fig.update_layout(\n",
    "#     title=\"Bar Chart of rcode_name Counts by Malware Status\",\n",
    "#     xaxis_title=\"rcode_name\",\n",
    "#     yaxis_title=\"Count\",\n",
    "#     barmode=\"group\",\n",
    "#     template=\"plotly_white\"\n",
    "# )\n",
    "\n",
    "# # Show the plot\n",
    "# fig.show()\n"
   ]
  },
  {
   "cell_type": "code",
   "execution_count": null,
   "id": "a15b4a89-e719-4278-848e-214085ce9f05",
   "metadata": {},
   "outputs": [],
   "source": [
    "df_m.groupBy('rtt').count().orderBy(\"count\", ascending=False).show()"
   ]
  },
  {
   "cell_type": "code",
   "execution_count": 28,
   "id": "99788656-ec64-4e45-91da-6eb36a995489",
   "metadata": {},
   "outputs": [],
   "source": [
    "# # Assuming df is your PySpark DataFrame and you have the relevant columns 'malware' and 'rtt'\n",
    "# # Convert PySpark DataFrame to Pandas DataFrame\n",
    "# data_pd = df_final.select(\"malware\", \"rtt\").toPandas()\n",
    "\n",
    "# # Filter the data where 'rtt' > 0.75\n",
    "# data_filtered = data_pd[data_pd['rtt'] > 0.75]\n",
    "\n",
    "# # Create the boxplot using Plotly\n",
    "# fig = px.box(\n",
    "#     data_filtered, \n",
    "#     x=\"malware\", \n",
    "#     y=\"rtt\", \n",
    "#     title=\"Boxplot of RTT > 0.75 vs Malware\",\n",
    "#     labels={\"malware\": \"Malware\", \"rtt\": \"RTT (ms)\"}\n",
    "# )\n",
    "\n",
    "# # Show the plot\n",
    "# fig.show()\n"
   ]
  },
  {
   "cell_type": "code",
   "execution_count": null,
   "id": "13625892",
   "metadata": {},
   "outputs": [],
   "source": [
    "df_m.sample(fraction=0.2, seed=42).show()"
   ]
  },
  {
   "cell_type": "markdown",
   "id": "44645fd2-5f45-476d-9990-6d4db28d2a60",
   "metadata": {},
   "source": [
    "# **Analysis**"
   ]
  },
  {
   "cell_type": "markdown",
   "id": "c95b1a20-d9f6-4c4a-a2af-67c60e2c3b09",
   "metadata": {
    "jp-MarkdownHeadingCollapsed": true
   },
   "source": [
    "## *TTL*"
   ]
  },
  {
   "cell_type": "markdown",
   "id": "3f45a3e3-3893-4b85-bc5b-89ccc8791a51",
   "metadata": {
    "jp-MarkdownHeadingCollapsed": true
   },
   "source": [
    "### preprocessing"
   ]
  },
  {
   "cell_type": "code",
   "execution_count": null,
   "id": "48b84c05-fb88-47b1-a137-175947e17ed5",
   "metadata": {},
   "outputs": [],
   "source": [
    "df_ttl = df_final['icann_domain', 'TTLs', 'malware']\n",
    "df_ttl.show()"
   ]
  },
  {
   "cell_type": "code",
   "execution_count": null,
   "id": "05680930-8184-48d0-bd5e-542af9f16980",
   "metadata": {},
   "outputs": [],
   "source": [
    "print(f\"count of TTL bedfor drop nulls: {df_ttl.count()}\")"
   ]
  },
  {
   "cell_type": "code",
   "execution_count": null,
   "id": "0e8a7fa4-ab7f-48d9-87c2-c9ae1145b290",
   "metadata": {},
   "outputs": [],
   "source": [
    "print(f\"number of null values in normals:   {df_ttl.filter(df_ttl['TTLs'].isNull() & (df_ttl['malware'] == 0)).count()}\")\n",
    "print(f\"number of null values in malwares:  {df_ttl.filter(df_ttl['TTLs'].isNull() & (df_ttl['malware'] == 1)).count()}\")"
   ]
  },
  {
   "cell_type": "code",
   "execution_count": 38,
   "id": "a53f3926-4a6c-47fb-b02a-d4bac8ee6a6e",
   "metadata": {},
   "outputs": [],
   "source": [
    "# drop nulls\n",
    "df_ttl = df_ttl.dropna()"
   ]
  },
  {
   "cell_type": "code",
   "execution_count": null,
   "id": "52dda513-3651-439f-ae80-2d326622bc44",
   "metadata": {},
   "outputs": [],
   "source": [
    "print(f\"count of TTL after drop nulls: {df_ttl.count()}\")"
   ]
  },
  {
   "cell_type": "markdown",
   "id": "3e533298-db06-445f-8fab-e9f055983a55",
   "metadata": {
    "jp-MarkdownHeadingCollapsed": true
   },
   "source": [
    "### unique"
   ]
  },
  {
   "cell_type": "code",
   "execution_count": null,
   "id": "42a8656f-7648-4ae5-b58d-af387217272f",
   "metadata": {},
   "outputs": [],
   "source": [
    "exploded_df = df_ttl.withColumn(\"TTL\", F.explode(\"TTLs\"))\n",
    "\n",
    "df_ttl = exploded_df.groupBy('icann_domain', 'malware') \\\n",
    "                       .agg(F.sort_array(F.collect_list('TTL')).alias('sorted_TTLs'))\n",
    "\n",
    "df_ttl.show()"
   ]
  },
  {
   "cell_type": "code",
   "execution_count": null,
   "id": "c157d006",
   "metadata": {},
   "outputs": [],
   "source": [
    "df_ttl.sample(fraction=0.2, seed=42).show(50)"
   ]
  },
  {
   "cell_type": "code",
   "execution_count": null,
   "id": "3588961d-1dc5-45c3-b874-aa51671bf0fe",
   "metadata": {},
   "outputs": [],
   "source": [
    "df_ttl.groupBy('icann_domain').count().orderBy(F.col('count').desc()).show()"
   ]
  },
  {
   "cell_type": "code",
   "execution_count": null,
   "id": "2e4db87b-b39b-4038-b0a2-ed98fd025cbf",
   "metadata": {},
   "outputs": [],
   "source": [
    "print(f\"number of normal values:  {df_ttl.filter(df_ttl['malware'] != 1).count()}\")\n",
    "print(f\"number of malware values: {df_ttl.filter(df_ttl['malware'] == 1).count()}\")"
   ]
  },
  {
   "cell_type": "markdown",
   "id": "2b06c3d0-70c8-4783-a90a-975fe237fa0b",
   "metadata": {},
   "source": [
    "### new ttl dataframe "
   ]
  },
  {
   "cell_type": "code",
   "execution_count": 45,
   "id": "81876d91-7c9c-4988-92cb-e81f1d66f0fc",
   "metadata": {},
   "outputs": [],
   "source": [
    "df_ttl_result = df_ttl.withColumn(\n",
    "    \"min\", F.expr(\"array_min(sorted_TTLs)\")  # Get the minimum TTL\n",
    ").withColumn(\n",
    "    \"max\", F.expr(\"array_max(sorted_TTLs)\")  # Get the maximum TTL\n",
    ").withColumn(\n",
    "    \"mean\", F.expr(\"aggregate(sorted_TTLs, 0D, (acc, x) -> acc + x) / size(sorted_TTLs)\")  # Get the mean of TTLs\n",
    ")\n",
    "\n",
    "# Select the desired columns\n",
    "df_ttl_result = df_ttl_result.select('icann_domain', 'sorted_TTLs', 'min', 'max', 'mean', 'malware')"
   ]
  },
  {
   "cell_type": "code",
   "execution_count": null,
   "id": "47036fdf-768c-4c4d-a17b-34ae62254e68",
   "metadata": {},
   "outputs": [],
   "source": [
    "# show random rows\n",
    "df_ttl_result.sample(fraction=0.2, seed=42).show()"
   ]
  },
  {
   "cell_type": "markdown",
   "id": "7203b1b2-797f-4676-bda7-41b80a0fa40e",
   "metadata": {},
   "source": [
    "### TTL eda"
   ]
  },
  {
   "cell_type": "code",
   "execution_count": null,
   "id": "82cc41ed-1217-4c26-8538-b3cab75b1f9a",
   "metadata": {},
   "outputs": [],
   "source": [
    "df_ttl_pd = df_ttl_result.toPandas()\n",
    "\n",
    "# Add a \"Group\" column to distinguish malware categories\n",
    "df_ttl_pd['Group'] = df_ttl_pd['malware'].apply(lambda x: 'Malware' if x == 1 else 'Normal')\n",
    "\n",
    "# Create a boxplot with Plotly Express\n",
    "fig = px.box(\n",
    "    df_ttl_pd,\n",
    "    x='Group',\n",
    "    y='mean',\n",
    "    title='Distribution of Mean Values by Malware Status',\n",
    "    labels={'mean': 'Mean Value', 'Group': 'Malware Status'}\n",
    ")\n",
    "\n",
    "# Show the plot\n",
    "fig.show()"
   ]
  },
  {
   "cell_type": "code",
   "execution_count": null,
   "id": "06eaaab6-74ec-44c3-b79c-a821fef1d4bf",
   "metadata": {},
   "outputs": [],
   "source": [
    "df_ttl_filtered = df_ttl_result.filter(df_ttl_result['mean'] < 30000)\n",
    "\n",
    "# Convert the filtered PySpark DataFrame to Pandas\n",
    "df_ttl_filtered_pd = df_ttl_filtered.toPandas()\n",
    "\n",
    "# Add a \"Group\" column to distinguish malware categories\n",
    "df_ttl_filtered_pd['Group'] = df_ttl_filtered_pd['malware'].apply(lambda x: 'Malware' if x == 1 else 'Normal')\n",
    "\n",
    "# Create a boxplot with Plotly Expressfence\n",
    "fig = px.box(\n",
    "    df_ttl_filtered_pd,\n",
    "    x='Group',\n",
    "    y='mean',\n",
    "    title='Distribution of Mean Values by Malware Status (Under 30k)',\n",
    "    labels={'mean': 'Mean Value', 'Group': 'Malware Status'}\n",
    ")\n",
    "\n",
    "# Show the plot\n",
    "fig.show()"
   ]
  },
  {
   "cell_type": "markdown",
   "id": "6fc872ae-849d-434d-a99b-e91ee2ab6920",
   "metadata": {
    "jp-MarkdownHeadingCollapsed": true
   },
   "source": [
    "## *RTT*"
   ]
  },
  {
   "cell_type": "markdown",
   "id": "8cb82b6e-5a4e-4fe4-a150-759c15396914",
   "metadata": {
    "jp-MarkdownHeadingCollapsed": true
   },
   "source": [
    "### preprocessing"
   ]
  },
  {
   "cell_type": "code",
   "execution_count": null,
   "id": "3c84bd38-63e6-456e-82bf-ef43ce6c1d45",
   "metadata": {},
   "outputs": [],
   "source": [
    "df_rtt = df_final['icann_domain', 'rtt', 'malware']\n",
    "df_rtt.show()"
   ]
  },
  {
   "cell_type": "code",
   "execution_count": null,
   "id": "70225840-dd23-451c-a6cb-18794d5db277",
   "metadata": {},
   "outputs": [],
   "source": [
    "print(f\"count of TTL after drop nulls: {df_rtt.count()}\")"
   ]
  },
  {
   "cell_type": "code",
   "execution_count": null,
   "id": "fd9e393a-f61c-4d65-8442-10036d29e6c2",
   "metadata": {},
   "outputs": [],
   "source": [
    "print(f\"number of null values in normals:   {df_rtt.filter(df_rtt['rtt'].isNull() & (df_rtt['malware'] == 0)).count()}\")\n",
    "print(f\"number of null values in malwares:  {df_rtt.filter(df_rtt['rtt'].isNull() & (df_rtt['malware'] == 1)).count()}\")"
   ]
  },
  {
   "cell_type": "code",
   "execution_count": 42,
   "id": "4ba9ec60-91cf-4452-b710-e0262858973b",
   "metadata": {},
   "outputs": [],
   "source": [
    "# drop nulls\n",
    "df_rtt = df_rtt.dropna()"
   ]
  },
  {
   "cell_type": "code",
   "execution_count": null,
   "id": "a75e0d7e-04d6-4745-b3f0-4dc978231abd",
   "metadata": {},
   "outputs": [],
   "source": [
    "print(f\"count of TTL after drop nulls: {df_rtt.count()}\")"
   ]
  },
  {
   "cell_type": "markdown",
   "id": "80543884-db07-4f3b-990e-1275dd204104",
   "metadata": {
    "jp-MarkdownHeadingCollapsed": true
   },
   "source": [
    "### unique"
   ]
  },
  {
   "cell_type": "code",
   "execution_count": null,
   "id": "bd54953d-afd6-4bca-852c-d33c6b80e270",
   "metadata": {},
   "outputs": [],
   "source": [
    "df_rtt = df_rtt.groupBy('icann_domain', 'malware') \\\n",
    "                      .agg(F.sort_array(F.collect_list('rtt')).alias('sorted_rtt'))\n",
    "\n",
    "# Show the result\n",
    "df_rtt.show()"
   ]
  },
  {
   "cell_type": "code",
   "execution_count": null,
   "id": "ae88d63b-bc8d-4cb1-b66f-2417d856a7dc",
   "metadata": {},
   "outputs": [],
   "source": [
    "df_rtt.groupBy('icann_domain').count().orderBy(F.col('count').desc()).show()"
   ]
  },
  {
   "cell_type": "code",
   "execution_count": null,
   "id": "a1731c2a-f6da-4037-8523-3eeeba947bab",
   "metadata": {},
   "outputs": [],
   "source": [
    "print(f\"number of normal values:  {df_rtt.filter(df_rtt['malware'] != 1).count()}\")\n",
    "print(f\"number of malware values: {df_rtt.filter(df_rtt['malware'] == 1).count()}\")"
   ]
  },
  {
   "cell_type": "markdown",
   "id": "55b44f8f-d168-4f43-8ac4-2f6dd21e0218",
   "metadata": {},
   "source": [
    "### new rtt dataframe "
   ]
  },
  {
   "cell_type": "code",
   "execution_count": 47,
   "id": "c8eca6f7-b430-4cb9-bcb6-b4d5089cff56",
   "metadata": {},
   "outputs": [],
   "source": [
    "df_rtt_result = df_rtt.withColumn(\n",
    "    \"min\", F.expr(\"array_min(sorted_rtt)\")  # Get the minimum TTL\n",
    ").withColumn(\n",
    "    \"max\", F.expr(\"array_max(sorted_rtt)\")  # Get the maximum TTL\n",
    ").withColumn(\n",
    "    \"mean\", F.expr(\"aggregate(sorted_rtt, 0D, (acc, x) -> acc + x) / size(sorted_rtt)\")  # Get the mean of TTLs\n",
    ")\n",
    "\n",
    "# Select the desired columns\n",
    "df_rtt_result = df_rtt_result.select('icann_domain', 'sorted_rtt', 'min', 'max', 'mean', 'malware')"
   ]
  },
  {
   "cell_type": "code",
   "execution_count": null,
   "id": "3f566b63-f376-48ef-9ceb-74ba35ea0b49",
   "metadata": {},
   "outputs": [],
   "source": [
    "# show random rows\n",
    "df_rtt_result.sample(fraction=0.2, seed=42).show()"
   ]
  },
  {
   "cell_type": "markdown",
   "id": "0c81af23-4ffb-4304-b522-5268b75d1ba1",
   "metadata": {},
   "source": [
    "### RTT eda"
   ]
  },
  {
   "cell_type": "code",
   "execution_count": null,
   "id": "670d2ade-d64d-4532-bec3-d5fa8d788612",
   "metadata": {},
   "outputs": [],
   "source": [
    "df_rtt_pd = df_rtt_result.toPandas()\n",
    "\n",
    "# Add a \"Group\" column to distinguish malware categories\n",
    "df_rtt_pd['Group'] = df_rtt_pd['malware'].apply(lambda x: 'Malware' if x == 1 else 'Normal')\n",
    "\n",
    "# Create a boxplot with Plotly Express\n",
    "fig = px.box(\n",
    "    df_rtt_pd,\n",
    "    x='Group',\n",
    "    y='mean',\n",
    "    title='RTT values',\n",
    "    labels={'mean': 'Mean Value', 'Group': 'Malware Status'}\n",
    ")\n",
    "\n",
    "# Show the plot\n",
    "fig.show()"
   ]
  },
  {
   "cell_type": "code",
   "execution_count": null,
   "id": "b5d677df-c4c5-4a5c-b456-06783067d5ef",
   "metadata": {},
   "outputs": [],
   "source": [
    "df_rtt_filtered = df_rtt_result.filter(df_rtt_result['mean'] < 0.75)\n",
    "\n",
    "# Convert the filtered PySpark DataFrame to Pandas\n",
    "df_rtt_filterd_pd = df_rtt_filtered.toPandas()\n",
    "\n",
    "# Add a \"Group\" column to distinguish malware categories\n",
    "df_rtt_filterd_pd['Group'] = df_rtt_filterd_pd['malware'].apply(lambda x: 'Malware' if x == 1 else 'Normal')\n",
    "\n",
    "# Create a boxplot with Plotly Express\n",
    "fig = px.box(\n",
    "    df_rtt_filterd_pd,\n",
    "    x='Group',\n",
    "    y='mean',\n",
    "    title='RTT filtered values (Under 0.75)',\n",
    "    labels={'mean': 'Mean Value', 'Group': 'Malware Status'}\n",
    ")\n",
    "\n",
    "# Show the plot\n",
    "fig.show()"
   ]
  },
  {
   "cell_type": "markdown",
   "id": "a9520bc0-3032-4f3c-8363-7ba76ee53af3",
   "metadata": {
    "jp-MarkdownHeadingCollapsed": true
   },
   "source": [
    "## *Entropy*"
   ]
  },
  {
   "cell_type": "markdown",
   "id": "8ed4a9e2-7305-463f-892f-bc1104c455a9",
   "metadata": {
    "jp-MarkdownHeadingCollapsed": true
   },
   "source": [
    "### preprocessing"
   ]
  },
  {
   "cell_type": "code",
   "execution_count": null,
   "id": "a470efb3-cb25-4584-9908-c1880cde7f4f",
   "metadata": {},
   "outputs": [],
   "source": [
    "df_ent = df_final['icann_domain', 'entropy', 'malware']\n",
    "df_ent.show()"
   ]
  },
  {
   "cell_type": "code",
   "execution_count": null,
   "id": "64950381-f31c-4ea8-ad7c-ec0d3f0c0901",
   "metadata": {},
   "outputs": [],
   "source": [
    "print(f\"count of TTL after drop nulls: {df_ent.count()}\")"
   ]
  },
  {
   "cell_type": "code",
   "execution_count": null,
   "id": "a7e47646-36d4-4eaf-9155-caaead16f2c4",
   "metadata": {},
   "outputs": [],
   "source": [
    "print(f\"number of null values in normals:   {df_ent.filter(df_ent['entropy'].isNull() & (df_ent['malware'] == 0)).count()}\")\n",
    "print(f\"number of null values in malwares:  {df_ent.filter(df_ent['entropy'].isNull() & (df_ent['malware'] == 1)).count()}\")"
   ]
  },
  {
   "cell_type": "code",
   "execution_count": 52,
   "id": "fd4e8c6f-719a-4caa-995a-33b337b46268",
   "metadata": {},
   "outputs": [],
   "source": [
    "# drop nulls\n",
    "df_ent = df_ent.dropna()"
   ]
  },
  {
   "cell_type": "code",
   "execution_count": null,
   "id": "8b42eaa7-b721-4d96-80ff-3ce5b399c597",
   "metadata": {},
   "outputs": [],
   "source": [
    "print(f\"count of TTL after drop nulls: {df_ent.count()}\")"
   ]
  },
  {
   "cell_type": "markdown",
   "id": "b390b6b0-781f-433e-9d83-ab6b8cb57711",
   "metadata": {
    "jp-MarkdownHeadingCollapsed": true
   },
   "source": [
    "### unique"
   ]
  },
  {
   "cell_type": "code",
   "execution_count": null,
   "id": "b4111e97-838e-4d73-a4d9-d61528860654",
   "metadata": {},
   "outputs": [],
   "source": [
    "df_ent = df_ent.groupBy('icann_domain', 'malware') \\\n",
    "                      .agg(F.sort_array(F.collect_list('entropy')).alias('sorted_entropy'))\n",
    "\n",
    "# Show the result\n",
    "df_ent.show()"
   ]
  },
  {
   "cell_type": "code",
   "execution_count": null,
   "id": "f1d70f96-61fd-4c27-8c80-84f79fa0a933",
   "metadata": {},
   "outputs": [],
   "source": [
    "df_ent.groupBy('icann_domain').count().orderBy(F.col('count').desc()).show()"
   ]
  },
  {
   "cell_type": "code",
   "execution_count": null,
   "id": "1640ebac-8894-4240-8cd1-d330fd60158a",
   "metadata": {},
   "outputs": [],
   "source": [
    "print(f\"number of normal values:  {df_ent.filter(df_ent['malware'] != 1).count()}\")\n",
    "print(f\"number of malware values: {df_ent.filter(df_ent['malware'] == 1).count()}\")"
   ]
  },
  {
   "cell_type": "markdown",
   "id": "b5027703-7ce3-4122-ba53-45d8c2af9fa4",
   "metadata": {},
   "source": [
    "### new ent dataframe "
   ]
  },
  {
   "cell_type": "code",
   "execution_count": 57,
   "id": "aa367455-c297-4b8d-941a-7a7f7bd3cd4a",
   "metadata": {},
   "outputs": [],
   "source": [
    "df_ent_result = df_ent.withColumn(\n",
    "    \"min\", F.expr(\"array_min(sorted_entropy)\")  # Get the minimum TTL\n",
    ").withColumn(\n",
    "    \"max\", F.expr(\"array_max(sorted_entropy)\")  # Get the maximum TTL\n",
    ").withColumn(\n",
    "    \"mean\", F.expr(\"aggregate(sorted_entropy, 0D, (acc, x) -> acc + x) / size(sorted_entropy)\")  # Get the mean of TTLs\n",
    ")\n",
    "\n",
    "# Select the desired columns\n",
    "df_ent_result = df_ent_result.select('icann_domain', 'sorted_entropy', 'min', 'max', 'mean', 'malware')"
   ]
  },
  {
   "cell_type": "code",
   "execution_count": null,
   "id": "81bf3d15-eb92-4b41-93b3-ffa549188554",
   "metadata": {},
   "outputs": [],
   "source": [
    "# show random rows\n",
    "df_ent_result.sample(fraction=0.2, seed=42).show()"
   ]
  },
  {
   "cell_type": "markdown",
   "id": "86efa486-9608-4422-b5c4-75eb12d24ac9",
   "metadata": {},
   "source": [
    "### Ent eda"
   ]
  },
  {
   "cell_type": "code",
   "execution_count": null,
   "id": "c0a2953f-a946-4c34-afd9-be9dd0f62d5e",
   "metadata": {},
   "outputs": [],
   "source": [
    "df_ent_pd = df_ent_result.toPandas()\n",
    "\n",
    "# Add a \"Group\" column to distinguish malware categories\n",
    "df_ent_pd['Group'] = df_ent_pd['malware'].apply(lambda x: 'Malware' if x == 1 else 'Normal')\n",
    "\n",
    "# Create a boxplot with Plotly Express\n",
    "fig = px.box(\n",
    "    df_ent_pd,\n",
    "    x='Group',\n",
    "    y='mean',\n",
    "    title='Distribution of Mean Values by Malware Status',\n",
    "    labels={'mean': 'Mean Value', 'Group': 'Malware Status'}\n",
    ")\n",
    "\n",
    "# Show the plot\n",
    "fig.show()"
   ]
  },
  {
   "cell_type": "code",
   "execution_count": null,
   "id": "14031ece-09a5-4755-ab7f-8f4be8bd7550",
   "metadata": {},
   "outputs": [],
   "source": []
  }
 ],
 "metadata": {
  "kernelspec": {
   "display_name": "Python 3",
   "language": "python",
   "name": "python3"
  },
  "language_info": {
   "codemirror_mode": {
    "name": "ipython",
    "version": 3
   },
   "file_extension": ".py",
   "mimetype": "text/x-python",
   "name": "python",
   "nbconvert_exporter": "python",
   "pygments_lexer": "ipython3",
   "version": "3.10.12"
  }
 },
 "nbformat": 4,
 "nbformat_minor": 5
}
